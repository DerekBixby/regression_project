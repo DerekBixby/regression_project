{
 "cells": [
  {
   "cell_type": "markdown",
   "id": "7477d6d0",
   "metadata": {},
   "source": [
    "# Zillow Final Report"
   ]
  },
  {
   "cell_type": "markdown",
   "id": "a8dcc1d9",
   "metadata": {},
   "source": [
    "## Goal:"
   ]
  },
  {
   "cell_type": "markdown",
   "id": "e4ed783d",
   "metadata": {},
   "source": [
    "* Discover variables contributing to property value for Zillow\n",
    "* Utilize these drivers to develop a regression machine learning model to predict property value\n",
    "* The information derived from this model can subsequently be used on data from new property transactions to predict value"
   ]
  },
  {
   "cell_type": "code",
   "execution_count": 1,
   "id": "61b9ad32",
   "metadata": {},
   "outputs": [],
   "source": [
    "import os\n",
    "import pandas as pd\n",
    "import numpy as np\n",
    "\n",
    "import matplotlib.pyplot as plt\n",
    "import seaborn as sns\n",
    "import scipy.stats as stats\n",
    "\n",
    "from sklearn.model_selection import train_test_split\n",
    "from scipy.stats import pearsonr, spearmanr\n",
    "from sklearn.linear_model import LinearRegression\n",
    "from sklearn.feature_selection import RFE\n",
    "from sklearn.preprocessing import MinMaxScaler\n",
    "from sklearn.feature_selection import RFE, SelectKBest, f_regression\n",
    "from sklearn.metrics import mean_squared_error, explained_variance_score\n",
    "from sklearn.preprocessing import PolynomialFeatures\n",
    "\n",
    "import wrangle\n",
    "from wrangle import get_zillow_data\n",
    "from wrangle import wrangle_zillow\n",
    "from wrangle import split_data\n",
    "\n",
    "import warnings\n",
    "warnings.filterwarnings(\"ignore\")"
   ]
  },
  {
   "cell_type": "markdown",
   "id": "a132ed3c",
   "metadata": {},
   "source": [
    "## Acquire"
   ]
  },
  {
   "cell_type": "markdown",
   "id": "cc9a8b95",
   "metadata": {},
   "source": [
    "* Data was acquired from the codeup database's Zillow dataset\n",
    "* Data originally contained 2,152,863 rows and 9 columns before cleaning\n",
    "* Each row represents a single family home transaction in 2017 in Orange, Los Angeles, and Ventura Counties in       California per the FCC website\n",
    "* Each column represents a feature of those homes"
   ]
  },
  {
   "cell_type": "markdown",
   "id": "ab06b3a6",
   "metadata": {},
   "source": [
    "## Prepare"
   ]
  },
  {
   "cell_type": "markdown",
   "id": "283cbc22",
   "metadata": {},
   "source": [
    "* Checked for null values, removed rows with null values\n",
    "* Checked column data types\n",
    "* Encoded fips categorical variable (county code)\n",
    "* split data into train, validate, and test (60/20/20)\n",
    "* no outliers removed for this iteration of the project"
   ]
  },
  {
   "cell_type": "code",
   "execution_count": 2,
   "id": "c10a242b",
   "metadata": {},
   "outputs": [],
   "source": [
    "# acquire and prepare data\n",
    "df = wrangle_zillow()"
   ]
  },
  {
   "cell_type": "code",
   "execution_count": 3,
   "id": "329e6514",
   "metadata": {},
   "outputs": [],
   "source": [
    "# splits data into train, validate, and test sets\n",
    "train, validate, test = split_data(df, random_state=7)"
   ]
  },
  {
   "cell_type": "code",
   "execution_count": 4,
   "id": "1b2736e2",
   "metadata": {},
   "outputs": [],
   "source": [
    "# splits into x and y for features and target variable on train, test, and validate\n",
    "X_train, y_train = train.drop(columns=['id', 'taxvaluedollarcnt', 'fips']), \\\n",
    "train[['taxvaluedollarcnt']]\n",
    "X_val, y_val = validate.drop(columns=['id', 'taxvaluedollarcnt', 'fips']), \\\n",
    "validate[['taxvaluedollarcnt']]\n",
    "X_test, y_test = test.drop(columns=['id', 'taxvaluedollarcnt', 'fips']), \\\n",
    "test[['taxvaluedollarcnt']]"
   ]
  },
  {
   "cell_type": "code",
   "execution_count": 5,
   "id": "8f49a8fc",
   "metadata": {},
   "outputs": [
    {
     "data": {
      "text/html": [
       "<div>\n",
       "<style scoped>\n",
       "    .dataframe tbody tr th:only-of-type {\n",
       "        vertical-align: middle;\n",
       "    }\n",
       "\n",
       "    .dataframe tbody tr th {\n",
       "        vertical-align: top;\n",
       "    }\n",
       "\n",
       "    .dataframe thead th {\n",
       "        text-align: right;\n",
       "    }\n",
       "</style>\n",
       "<table border=\"1\" class=\"dataframe\">\n",
       "  <thead>\n",
       "    <tr style=\"text-align: right;\">\n",
       "      <th></th>\n",
       "      <th>taxvaluedollarcnt</th>\n",
       "    </tr>\n",
       "  </thead>\n",
       "  <tbody>\n",
       "    <tr>\n",
       "      <th>743746</th>\n",
       "      <td>623774.0</td>\n",
       "    </tr>\n",
       "    <tr>\n",
       "      <th>1593028</th>\n",
       "      <td>272000.0</td>\n",
       "    </tr>\n",
       "    <tr>\n",
       "      <th>1884457</th>\n",
       "      <td>61004.0</td>\n",
       "    </tr>\n",
       "    <tr>\n",
       "      <th>542040</th>\n",
       "      <td>254855.0</td>\n",
       "    </tr>\n",
       "    <tr>\n",
       "      <th>2135754</th>\n",
       "      <td>1097000.0</td>\n",
       "    </tr>\n",
       "  </tbody>\n",
       "</table>\n",
       "</div>"
      ],
      "text/plain": [
       "         taxvaluedollarcnt\n",
       "743746            623774.0\n",
       "1593028           272000.0\n",
       "1884457            61004.0\n",
       "542040            254855.0\n",
       "2135754          1097000.0"
      ]
     },
     "execution_count": 5,
     "metadata": {},
     "output_type": "execute_result"
    }
   ],
   "source": [
    "y_train.head()"
   ]
  },
  {
   "cell_type": "markdown",
   "id": "b95cca8d",
   "metadata": {},
   "source": [
    "## Data Dictionary "
   ]
  },
  {
   "cell_type": "markdown",
   "id": "a16d6561",
   "metadata": {},
   "source": [
    "The following dictionary only defines columns used in analysis for this dataset.\n",
    "\n",
    "| Feature | Definition |\n",
    "|:--------|:-----------|\n",
    "|Tax Value| Dollar value of property sold in 2017|\n",
    "|Tax Amount| Taxes, in dollars, previously paid on property|\n",
    "|Year Built| Year property was built|\n",
    "|Square Feet| Total square footage of property|\n",
    "|Bedrooms| Number of bedrooms|\n",
    "|Bathrooms| Number of bathrooms. Partial means no washing facility, only toilet|\n",
    "|FIPS| Federal Information Processing Standards, categorical variable of county codes for above counties|\n"
   ]
  },
  {
   "cell_type": "markdown",
   "id": "7fcdca05",
   "metadata": {},
   "source": [
    "### View of the data"
   ]
  },
  {
   "cell_type": "code",
   "execution_count": 6,
   "id": "97541712",
   "metadata": {},
   "outputs": [
    {
     "data": {
      "text/html": [
       "<div>\n",
       "<style scoped>\n",
       "    .dataframe tbody tr th:only-of-type {\n",
       "        vertical-align: middle;\n",
       "    }\n",
       "\n",
       "    .dataframe tbody tr th {\n",
       "        vertical-align: top;\n",
       "    }\n",
       "\n",
       "    .dataframe thead th {\n",
       "        text-align: right;\n",
       "    }\n",
       "</style>\n",
       "<table border=\"1\" class=\"dataframe\">\n",
       "  <thead>\n",
       "    <tr style=\"text-align: right;\">\n",
       "      <th></th>\n",
       "      <th>4</th>\n",
       "      <th>6</th>\n",
       "      <th>7</th>\n",
       "      <th>11</th>\n",
       "      <th>14</th>\n",
       "    </tr>\n",
       "  </thead>\n",
       "  <tbody>\n",
       "    <tr>\n",
       "      <th>id</th>\n",
       "      <td>20</td>\n",
       "      <td>31</td>\n",
       "      <td>33</td>\n",
       "      <td>62</td>\n",
       "      <td>97</td>\n",
       "    </tr>\n",
       "    <tr>\n",
       "      <th>bedroomcnt</th>\n",
       "      <td>4.0</td>\n",
       "      <td>3.0</td>\n",
       "      <td>3.0</td>\n",
       "      <td>0.0</td>\n",
       "      <td>0.0</td>\n",
       "    </tr>\n",
       "    <tr>\n",
       "      <th>bathroomcnt</th>\n",
       "      <td>2.0</td>\n",
       "      <td>4.0</td>\n",
       "      <td>2.0</td>\n",
       "      <td>0.0</td>\n",
       "      <td>0.0</td>\n",
       "    </tr>\n",
       "    <tr>\n",
       "      <th>calculatedfinishedsquarefeet</th>\n",
       "      <td>3633.0</td>\n",
       "      <td>1620.0</td>\n",
       "      <td>2077.0</td>\n",
       "      <td>1200.0</td>\n",
       "      <td>171.0</td>\n",
       "    </tr>\n",
       "    <tr>\n",
       "      <th>taxvaluedollarcnt</th>\n",
       "      <td>296425.0</td>\n",
       "      <td>847770.0</td>\n",
       "      <td>646760.0</td>\n",
       "      <td>5328.0</td>\n",
       "      <td>6920.0</td>\n",
       "    </tr>\n",
       "    <tr>\n",
       "      <th>yearbuilt</th>\n",
       "      <td>2005.0</td>\n",
       "      <td>2011.0</td>\n",
       "      <td>1926.0</td>\n",
       "      <td>1972.0</td>\n",
       "      <td>1973.0</td>\n",
       "    </tr>\n",
       "    <tr>\n",
       "      <th>taxamount</th>\n",
       "      <td>6941.39</td>\n",
       "      <td>10244.94</td>\n",
       "      <td>7924.68</td>\n",
       "      <td>91.6</td>\n",
       "      <td>255.17</td>\n",
       "    </tr>\n",
       "    <tr>\n",
       "      <th>fips</th>\n",
       "      <td>6037.0</td>\n",
       "      <td>6037.0</td>\n",
       "      <td>6037.0</td>\n",
       "      <td>6037.0</td>\n",
       "      <td>6037.0</td>\n",
       "    </tr>\n",
       "    <tr>\n",
       "      <th>fips_6059.0</th>\n",
       "      <td>0</td>\n",
       "      <td>0</td>\n",
       "      <td>0</td>\n",
       "      <td>0</td>\n",
       "      <td>0</td>\n",
       "    </tr>\n",
       "    <tr>\n",
       "      <th>fips_6111.0</th>\n",
       "      <td>0</td>\n",
       "      <td>0</td>\n",
       "      <td>0</td>\n",
       "      <td>0</td>\n",
       "      <td>0</td>\n",
       "    </tr>\n",
       "  </tbody>\n",
       "</table>\n",
       "</div>"
      ],
      "text/plain": [
       "                                    4         6         7       11      14\n",
       "id                                  20        31        33      62      97\n",
       "bedroomcnt                         4.0       3.0       3.0     0.0     0.0\n",
       "bathroomcnt                        2.0       4.0       2.0     0.0     0.0\n",
       "calculatedfinishedsquarefeet    3633.0    1620.0    2077.0  1200.0   171.0\n",
       "taxvaluedollarcnt             296425.0  847770.0  646760.0  5328.0  6920.0\n",
       "yearbuilt                       2005.0    2011.0    1926.0  1972.0  1973.0\n",
       "taxamount                      6941.39  10244.94   7924.68    91.6  255.17\n",
       "fips                            6037.0    6037.0    6037.0  6037.0  6037.0\n",
       "fips_6059.0                          0         0         0       0       0\n",
       "fips_6111.0                          0         0         0       0       0"
      ]
     },
     "execution_count": 6,
     "metadata": {},
     "output_type": "execute_result"
    }
   ],
   "source": [
    "df.head().T"
   ]
  },
  {
   "cell_type": "markdown",
   "id": "54b011d7",
   "metadata": {},
   "source": [
    "### Summary of the data"
   ]
  },
  {
   "cell_type": "code",
   "execution_count": 7,
   "id": "bb58706e",
   "metadata": {},
   "outputs": [
    {
     "data": {
      "text/html": [
       "<div>\n",
       "<style scoped>\n",
       "    .dataframe tbody tr th:only-of-type {\n",
       "        vertical-align: middle;\n",
       "    }\n",
       "\n",
       "    .dataframe tbody tr th {\n",
       "        vertical-align: top;\n",
       "    }\n",
       "\n",
       "    .dataframe thead th {\n",
       "        text-align: right;\n",
       "    }\n",
       "</style>\n",
       "<table border=\"1\" class=\"dataframe\">\n",
       "  <thead>\n",
       "    <tr style=\"text-align: right;\">\n",
       "      <th></th>\n",
       "      <th>id</th>\n",
       "      <th>bedroomcnt</th>\n",
       "      <th>bathroomcnt</th>\n",
       "      <th>calculatedfinishedsquarefeet</th>\n",
       "      <th>taxvaluedollarcnt</th>\n",
       "      <th>yearbuilt</th>\n",
       "      <th>taxamount</th>\n",
       "      <th>fips_6059.0</th>\n",
       "      <th>fips_6111.0</th>\n",
       "    </tr>\n",
       "  </thead>\n",
       "  <tbody>\n",
       "    <tr>\n",
       "      <th>count</th>\n",
       "      <td>2.140235e+06</td>\n",
       "      <td>2.140235e+06</td>\n",
       "      <td>2.140235e+06</td>\n",
       "      <td>2.140235e+06</td>\n",
       "      <td>2.140235e+06</td>\n",
       "      <td>2.140235e+06</td>\n",
       "      <td>2.140235e+06</td>\n",
       "      <td>2.140235e+06</td>\n",
       "      <td>2.140235e+06</td>\n",
       "    </tr>\n",
       "    <tr>\n",
       "      <th>mean</th>\n",
       "      <td>1.490823e+06</td>\n",
       "      <td>3.301419e+00</td>\n",
       "      <td>2.240352e+00</td>\n",
       "      <td>1.863194e+03</td>\n",
       "      <td>4.606416e+05</td>\n",
       "      <td>1.960968e+03</td>\n",
       "      <td>5.616711e+03</td>\n",
       "      <td>2.579422e-01</td>\n",
       "      <td>7.614631e-02</td>\n",
       "    </tr>\n",
       "    <tr>\n",
       "      <th>std</th>\n",
       "      <td>8.608367e+05</td>\n",
       "      <td>9.325998e-01</td>\n",
       "      <td>9.905489e-01</td>\n",
       "      <td>1.221754e+03</td>\n",
       "      <td>6.771576e+05</td>\n",
       "      <td>2.215056e+01</td>\n",
       "      <td>7.814563e+03</td>\n",
       "      <td>4.375021e-01</td>\n",
       "      <td>2.652321e-01</td>\n",
       "    </tr>\n",
       "    <tr>\n",
       "      <th>min</th>\n",
       "      <td>2.000000e+01</td>\n",
       "      <td>0.000000e+00</td>\n",
       "      <td>0.000000e+00</td>\n",
       "      <td>1.000000e+00</td>\n",
       "      <td>2.200000e+01</td>\n",
       "      <td>1.801000e+03</td>\n",
       "      <td>6.340000e+00</td>\n",
       "      <td>0.000000e+00</td>\n",
       "      <td>0.000000e+00</td>\n",
       "    </tr>\n",
       "    <tr>\n",
       "      <th>25%</th>\n",
       "      <td>7.452520e+05</td>\n",
       "      <td>3.000000e+00</td>\n",
       "      <td>2.000000e+00</td>\n",
       "      <td>1.258000e+03</td>\n",
       "      <td>1.891660e+05</td>\n",
       "      <td>1.949000e+03</td>\n",
       "      <td>2.540850e+03</td>\n",
       "      <td>0.000000e+00</td>\n",
       "      <td>0.000000e+00</td>\n",
       "    </tr>\n",
       "    <tr>\n",
       "      <th>50%</th>\n",
       "      <td>1.490470e+06</td>\n",
       "      <td>3.000000e+00</td>\n",
       "      <td>2.000000e+00</td>\n",
       "      <td>1.623000e+03</td>\n",
       "      <td>3.282960e+05</td>\n",
       "      <td>1.958000e+03</td>\n",
       "      <td>4.111470e+03</td>\n",
       "      <td>0.000000e+00</td>\n",
       "      <td>0.000000e+00</td>\n",
       "    </tr>\n",
       "    <tr>\n",
       "      <th>75%</th>\n",
       "      <td>2.235778e+06</td>\n",
       "      <td>4.000000e+00</td>\n",
       "      <td>3.000000e+00</td>\n",
       "      <td>2.208000e+03</td>\n",
       "      <td>5.346060e+05</td>\n",
       "      <td>1.976000e+03</td>\n",
       "      <td>6.411930e+03</td>\n",
       "      <td>1.000000e+00</td>\n",
       "      <td>0.000000e+00</td>\n",
       "    </tr>\n",
       "    <tr>\n",
       "      <th>max</th>\n",
       "      <td>2.982282e+06</td>\n",
       "      <td>2.500000e+01</td>\n",
       "      <td>3.200000e+01</td>\n",
       "      <td>9.525760e+05</td>\n",
       "      <td>9.018846e+07</td>\n",
       "      <td>2.016000e+03</td>\n",
       "      <td>1.078102e+06</td>\n",
       "      <td>1.000000e+00</td>\n",
       "      <td>1.000000e+00</td>\n",
       "    </tr>\n",
       "  </tbody>\n",
       "</table>\n",
       "</div>"
      ],
      "text/plain": [
       "                 id    bedroomcnt   bathroomcnt  calculatedfinishedsquarefeet  \\\n",
       "count  2.140235e+06  2.140235e+06  2.140235e+06                  2.140235e+06   \n",
       "mean   1.490823e+06  3.301419e+00  2.240352e+00                  1.863194e+03   \n",
       "std    8.608367e+05  9.325998e-01  9.905489e-01                  1.221754e+03   \n",
       "min    2.000000e+01  0.000000e+00  0.000000e+00                  1.000000e+00   \n",
       "25%    7.452520e+05  3.000000e+00  2.000000e+00                  1.258000e+03   \n",
       "50%    1.490470e+06  3.000000e+00  2.000000e+00                  1.623000e+03   \n",
       "75%    2.235778e+06  4.000000e+00  3.000000e+00                  2.208000e+03   \n",
       "max    2.982282e+06  2.500000e+01  3.200000e+01                  9.525760e+05   \n",
       "\n",
       "       taxvaluedollarcnt     yearbuilt     taxamount   fips_6059.0  \\\n",
       "count       2.140235e+06  2.140235e+06  2.140235e+06  2.140235e+06   \n",
       "mean        4.606416e+05  1.960968e+03  5.616711e+03  2.579422e-01   \n",
       "std         6.771576e+05  2.215056e+01  7.814563e+03  4.375021e-01   \n",
       "min         2.200000e+01  1.801000e+03  6.340000e+00  0.000000e+00   \n",
       "25%         1.891660e+05  1.949000e+03  2.540850e+03  0.000000e+00   \n",
       "50%         3.282960e+05  1.958000e+03  4.111470e+03  0.000000e+00   \n",
       "75%         5.346060e+05  1.976000e+03  6.411930e+03  1.000000e+00   \n",
       "max         9.018846e+07  2.016000e+03  1.078102e+06  1.000000e+00   \n",
       "\n",
       "        fips_6111.0  \n",
       "count  2.140235e+06  \n",
       "mean   7.614631e-02  \n",
       "std    2.652321e-01  \n",
       "min    0.000000e+00  \n",
       "25%    0.000000e+00  \n",
       "50%    0.000000e+00  \n",
       "75%    0.000000e+00  \n",
       "max    1.000000e+00  "
      ]
     },
     "execution_count": 7,
     "metadata": {},
     "output_type": "execute_result"
    }
   ],
   "source": [
    "df.describe()"
   ]
  },
  {
   "cell_type": "code",
   "execution_count": 8,
   "id": "73321cdd",
   "metadata": {},
   "outputs": [
    {
     "data": {
      "image/png": "[encoded data removed]",
      "text/plain": [
       "<Figure size 500x500 with 1 Axes>"
      ]
     },
     "metadata": {},
     "output_type": "display_data"
    }
   ],
   "source": [
    "sns.displot(data=test.sample(100000), x='taxvaluedollarcnt')\n",
    "plt.xlim(0, 1500000)\n",
    "plt.show()"
   ]
  },
  {
   "cell_type": "markdown",
   "id": "a17432d2",
   "metadata": {},
   "source": [
    "## Explore "
   ]
  },
  {
   "cell_type": "markdown",
   "id": "57a87682",
   "metadata": {},
   "source": [
    " Alpha for all statistical tests is .05"
   ]
  },
  {
   "cell_type": "markdown",
   "id": "9d67bb71",
   "metadata": {},
   "source": [
    "### Which variable is most strongly correlated with home value?"
   ]
  },
  {
   "cell_type": "code",
   "execution_count": 9,
   "id": "8973a7ad",
   "metadata": {},
   "outputs": [
    {
     "data": {
      "text/html": [
       "<div>\n",
       "<style scoped>\n",
       "    .dataframe tbody tr th:only-of-type {\n",
       "        vertical-align: middle;\n",
       "    }\n",
       "\n",
       "    .dataframe tbody tr th {\n",
       "        vertical-align: top;\n",
       "    }\n",
       "\n",
       "    .dataframe thead th {\n",
       "        text-align: right;\n",
       "    }\n",
       "</style>\n",
       "<table border=\"1\" class=\"dataframe\">\n",
       "  <thead>\n",
       "    <tr style=\"text-align: right;\">\n",
       "      <th></th>\n",
       "      <th>id</th>\n",
       "      <th>bedroomcnt</th>\n",
       "      <th>bathroomcnt</th>\n",
       "      <th>calculatedfinishedsquarefeet</th>\n",
       "      <th>taxvaluedollarcnt</th>\n",
       "      <th>yearbuilt</th>\n",
       "      <th>taxamount</th>\n",
       "      <th>fips_6059.0</th>\n",
       "      <th>fips_6111.0</th>\n",
       "    </tr>\n",
       "  </thead>\n",
       "  <tbody>\n",
       "    <tr>\n",
       "      <th>id</th>\n",
       "      <td>1.000000</td>\n",
       "      <td>0.001132</td>\n",
       "      <td>-0.000516</td>\n",
       "      <td>-0.000503</td>\n",
       "      <td>-0.000316</td>\n",
       "      <td>0.001923</td>\n",
       "      <td>-0.000051</td>\n",
       "      <td>0.004168</td>\n",
       "      <td>-0.002630</td>\n",
       "    </tr>\n",
       "    <tr>\n",
       "      <th>bedroomcnt</th>\n",
       "      <td>0.001132</td>\n",
       "      <td>1.000000</td>\n",
       "      <td>0.634089</td>\n",
       "      <td>0.655521</td>\n",
       "      <td>0.295796</td>\n",
       "      <td>0.426032</td>\n",
       "      <td>0.297101</td>\n",
       "      <td>0.134474</td>\n",
       "      <td>0.092787</td>\n",
       "    </tr>\n",
       "    <tr>\n",
       "      <th>bathroomcnt</th>\n",
       "      <td>-0.000516</td>\n",
       "      <td>0.634089</td>\n",
       "      <td>1.000000</td>\n",
       "      <td>0.825958</td>\n",
       "      <td>0.482003</td>\n",
       "      <td>0.570264</td>\n",
       "      <td>0.481531</td>\n",
       "      <td>0.166368</td>\n",
       "      <td>0.064681</td>\n",
       "    </tr>\n",
       "    <tr>\n",
       "      <th>calculatedfinishedsquarefeet</th>\n",
       "      <td>-0.000503</td>\n",
       "      <td>0.655521</td>\n",
       "      <td>0.825958</td>\n",
       "      <td>1.000000</td>\n",
       "      <td>0.523148</td>\n",
       "      <td>0.511772</td>\n",
       "      <td>0.520477</td>\n",
       "      <td>0.161795</td>\n",
       "      <td>0.070704</td>\n",
       "    </tr>\n",
       "    <tr>\n",
       "      <th>taxvaluedollarcnt</th>\n",
       "      <td>-0.000316</td>\n",
       "      <td>0.295796</td>\n",
       "      <td>0.482003</td>\n",
       "      <td>0.523148</td>\n",
       "      <td>1.000000</td>\n",
       "      <td>0.290896</td>\n",
       "      <td>0.978736</td>\n",
       "      <td>0.148174</td>\n",
       "      <td>0.037879</td>\n",
       "    </tr>\n",
       "    <tr>\n",
       "      <th>yearbuilt</th>\n",
       "      <td>0.001923</td>\n",
       "      <td>0.426032</td>\n",
       "      <td>0.570264</td>\n",
       "      <td>0.511772</td>\n",
       "      <td>0.290896</td>\n",
       "      <td>1.000000</td>\n",
       "      <td>0.289409</td>\n",
       "      <td>0.332884</td>\n",
       "      <td>0.188305</td>\n",
       "    </tr>\n",
       "    <tr>\n",
       "      <th>taxamount</th>\n",
       "      <td>-0.000051</td>\n",
       "      <td>0.297101</td>\n",
       "      <td>0.481531</td>\n",
       "      <td>0.520477</td>\n",
       "      <td>0.978736</td>\n",
       "      <td>0.289409</td>\n",
       "      <td>1.000000</td>\n",
       "      <td>0.099325</td>\n",
       "      <td>0.004249</td>\n",
       "    </tr>\n",
       "    <tr>\n",
       "      <th>fips_6059.0</th>\n",
       "      <td>0.004168</td>\n",
       "      <td>0.134474</td>\n",
       "      <td>0.166368</td>\n",
       "      <td>0.161795</td>\n",
       "      <td>0.148174</td>\n",
       "      <td>0.332884</td>\n",
       "      <td>0.099325</td>\n",
       "      <td>1.000000</td>\n",
       "      <td>-0.169215</td>\n",
       "    </tr>\n",
       "    <tr>\n",
       "      <th>fips_6111.0</th>\n",
       "      <td>-0.002630</td>\n",
       "      <td>0.092787</td>\n",
       "      <td>0.064681</td>\n",
       "      <td>0.070704</td>\n",
       "      <td>0.037879</td>\n",
       "      <td>0.188305</td>\n",
       "      <td>0.004249</td>\n",
       "      <td>-0.169215</td>\n",
       "      <td>1.000000</td>\n",
       "    </tr>\n",
       "  </tbody>\n",
       "</table>\n",
       "</div>"
      ],
      "text/plain": [
       "                                    id  bedroomcnt  bathroomcnt  \\\n",
       "id                            1.000000    0.001132    -0.000516   \n",
       "bedroomcnt                    0.001132    1.000000     0.634089   \n",
       "bathroomcnt                  -0.000516    0.634089     1.000000   \n",
       "calculatedfinishedsquarefeet -0.000503    0.655521     0.825958   \n",
       "taxvaluedollarcnt            -0.000316    0.295796     0.482003   \n",
       "yearbuilt                     0.001923    0.426032     0.570264   \n",
       "taxamount                    -0.000051    0.297101     0.481531   \n",
       "fips_6059.0                   0.004168    0.134474     0.166368   \n",
       "fips_6111.0                  -0.002630    0.092787     0.064681   \n",
       "\n",
       "                              calculatedfinishedsquarefeet  taxvaluedollarcnt  \\\n",
       "id                                               -0.000503          -0.000316   \n",
       "bedroomcnt                                        0.655521           0.295796   \n",
       "bathroomcnt                                       0.825958           0.482003   \n",
       "calculatedfinishedsquarefeet                      1.000000           0.523148   \n",
       "taxvaluedollarcnt                                 0.523148           1.000000   \n",
       "yearbuilt                                         0.511772           0.290896   \n",
       "taxamount                                         0.520477           0.978736   \n",
       "fips_6059.0                                       0.161795           0.148174   \n",
       "fips_6111.0                                       0.070704           0.037879   \n",
       "\n",
       "                              yearbuilt  taxamount  fips_6059.0  fips_6111.0  \n",
       "id                             0.001923  -0.000051     0.004168    -0.002630  \n",
       "bedroomcnt                     0.426032   0.297101     0.134474     0.092787  \n",
       "bathroomcnt                    0.570264   0.481531     0.166368     0.064681  \n",
       "calculatedfinishedsquarefeet   0.511772   0.520477     0.161795     0.070704  \n",
       "taxvaluedollarcnt              0.290896   0.978736     0.148174     0.037879  \n",
       "yearbuilt                      1.000000   0.289409     0.332884     0.188305  \n",
       "taxamount                      0.289409   1.000000     0.099325     0.004249  \n",
       "fips_6059.0                    0.332884   0.099325     1.000000    -0.169215  \n",
       "fips_6111.0                    0.188305   0.004249    -0.169215     1.000000  "
      ]
     },
     "execution_count": 9,
     "metadata": {},
     "output_type": "execute_result"
    }
   ],
   "source": [
    "# this creates spearman correlation coefficients between each variable in the data\n",
    "exam_corr = train.corr(method='spearman')\n",
    "exam_corr"
   ]
  },
  {
   "cell_type": "code",
   "execution_count": 10,
   "id": "e9d863ff",
   "metadata": {},
   "outputs": [
    {
     "data": {
      "image/png": "[encoded data removed]",
      "text/plain": [
       "<Figure size 500x500 with 1 Axes>"
      ]
     },
     "metadata": {},
     "output_type": "display_data"
    }
   ],
   "source": [
    "# this creates a plot showing a sample of points and a regression line between value and tax amount\n",
    "sns.lmplot(x='taxvaluedollarcnt', y='taxamount', data=train.sample(100000)).set(title='Are tax amount and property value related?')\n",
    "plt.xlabel('Property Value')\n",
    "plt.ylabel('Taxes Paid 2016')\n",
    "plt.show()"
   ]
  },
  {
   "cell_type": "markdown",
   "id": "0c6bf31f",
   "metadata": {},
   "source": [
    "* Tax amount appears extremely highly correlated with property value\n",
    "* This makes sense logically"
   ]
  },
  {
   "cell_type": "markdown",
   "id": "09d77eda",
   "metadata": {},
   "source": [
    "### How closely are the variables potentially affecting value related to each other?"
   ]
  },
  {
   "cell_type": "code",
   "execution_count": 11,
   "id": "0edcca0f",
   "metadata": {},
   "outputs": [
    {
     "data": {
      "image/png": "[encoded data removed]",
      "text/plain": [
       "<Figure size 640x480 with 2 Axes>"
      ]
     },
     "metadata": {},
     "output_type": "display_data"
    }
   ],
   "source": [
    "# this creates a heatmap showing correlation between all variables in the dataframe\n",
    "sns.heatmap(exam_corr).set(title='Variables correlation to each other')\n",
    "plt.show()"
   ]
  },
  {
   "cell_type": "markdown",
   "id": "99e919d8",
   "metadata": {},
   "source": [
    "* Square footage, bedroom count, and bathroom count are all relatively correlated to each other\n",
    "* This also makes logical sense"
   ]
  },
  {
   "cell_type": "markdown",
   "id": "c7eb0dd4",
   "metadata": {},
   "source": [
    "### How closely are bedroom count and bathroom count related? "
   ]
  },
  {
   "cell_type": "code",
   "execution_count": 12,
   "id": "4838771e",
   "metadata": {},
   "outputs": [
    {
     "data": {
      "image/png": "[encoded data removed]",
      "text/plain": [
       "<Figure size 500x500 with 1 Axes>"
      ]
     },
     "metadata": {},
     "output_type": "display_data"
    }
   ],
   "source": [
    "# this plots, with labels, bedroom and bathroom counts\n",
    "sns.lmplot(x='bedroomcnt', y='bathroomcnt', data=train.sample(100000)).set(title='Relationship between number of bathrooms and bedrooms')\n",
    "plt.xlabel('Bedrooms')\n",
    "plt.ylabel('Bathrooms')\n",
    "plt.xlim(0, 12)\n",
    "plt.ylim(0, 15)\n",
    "plt.show()"
   ]
  },
  {
   "cell_type": "markdown",
   "id": "38b6990b",
   "metadata": {},
   "source": [
    "Ho: Bedrooms and bathrooms and not statistically significantly correlated\n",
    "Ha: Bedrooms and bathrooms are statistically significantly related"
   ]
  },
  {
   "cell_type": "code",
   "execution_count": 13,
   "id": "ca0582bc",
   "metadata": {},
   "outputs": [
    {
     "data": {
      "text/plain": [
       "(0.6340887436870352, 0.0)"
      ]
     },
     "execution_count": 13,
     "metadata": {},
     "output_type": "execute_result"
    }
   ],
   "source": [
    "# this runs a spearman test to determine if there is a statistically significant correlation\n",
    "r,p = spearmanr(train.bedroomcnt, train.bathroomcnt)\n",
    "r,p"
   ]
  },
  {
   "cell_type": "markdown",
   "id": "85fa6e9c",
   "metadata": {},
   "source": [
    "* Bedrooms and bathrooms are statistically significantly related and, per above, this is likely all related to square footage"
   ]
  },
  {
   "cell_type": "markdown",
   "id": "e18f48eb",
   "metadata": {},
   "source": [
    "### What drives differences in value between counties?"
   ]
  },
  {
   "cell_type": "code",
   "execution_count": 14,
   "id": "cee112ee",
   "metadata": {
    "scrolled": false
   },
   "outputs": [
    {
     "data": {
      "image/png": "[encoded data removed]",
      "text/plain": [
       "<Figure size 640x480 with 1 Axes>"
      ]
     },
     "metadata": {},
     "output_type": "display_data"
    }
   ],
   "source": [
    "# This creates a plot comparing means of property value between counties\n",
    "sns.barplot(x='fips', y='taxvaluedollarcnt', data=test).set(title='Does average property value differ by county?')\n",
    "plt.xlabel('County')\n",
    "plt.ylabel('Property Value')\n",
    "plt.ylim(400000, 600000)\n",
    "plt.show()"
   ]
  },
  {
   "cell_type": "code",
   "execution_count": 15,
   "id": "bc6fb932",
   "metadata": {},
   "outputs": [],
   "source": [
    "# this \n",
    "orange_county = test[test.fips == 6059.0].taxvaluedollarcnt\n",
    "los_angeles = test[test.fips == 6037.0].taxvaluedollarcnt\n",
    "ventura_county = test[test.fips == 6111.0].taxvaluedollarcnt\n"
   ]
  },
  {
   "cell_type": "code",
   "execution_count": 16,
   "id": "6328dfce",
   "metadata": {},
   "outputs": [
    {
     "data": {
      "text/plain": [
       "(10844.36365127075, 0.0)"
      ]
     },
     "execution_count": 16,
     "metadata": {},
     "output_type": "execute_result"
    }
   ],
   "source": [
    "# this runs a kriskal Wallis test to determine statistically significant difference in means property \n",
    "# value between counties\n",
    "f, p = stats.kruskal(orange_county, los_angeles, ventura_county)\n",
    "f, p"
   ]
  },
  {
   "cell_type": "code",
   "execution_count": 17,
   "id": "47da0c3c",
   "metadata": {},
   "outputs": [],
   "source": [
    "\n",
    "def plot_fips(train):\n",
    "        sns.barplot(x='fips', y='taxamount', data=train).set(title='Do any variables indicate why Orange County has higher average property value?')\n",
    "        plt.xlabel('County Code')\n",
    "        plt.ylabel('2016 Property Taxes')\n",
    "        plt.show()\n",
    "        sns.barplot(x='fips', y='bathroomcnt', data=train)\n",
    "        plt.xlabel('County Code')\n",
    "        plt.ylabel('Bathrooms')\n",
    "        plt.show()\n",
    "        sns.barplot(x='fips', y='calculatedfinishedsquarefeet', data=train)\n",
    "        plt.xlabel('County Code')\n",
    "        plt.ylabel('Square Footage')\n",
    "        plt.show()\n",
    "        sns.barplot(x='fips', y='bedroomcnt', data=train)\n",
    "        plt.xlabel('County Code')\n",
    "        plt.ylabel('Bedrooms')\n",
    "        plt.show()\n",
    "        sns.barplot(x='fips', y='yearbuilt', data=train)\n",
    "        plt.xlabel('County Code')\n",
    "        plt.ylabel('Year Built')\n",
    "        plt.ylim(1900, 2017)\n",
    "        plt.show()"
   ]
  },
  {
   "cell_type": "code",
   "execution_count": 18,
   "id": "487a45b4",
   "metadata": {
    "scrolled": false
   },
   "outputs": [
    {
     "data": {
      "image/png": "[encoded data removed]",
      "text/plain": [
       "<Figure size 640x480 with 1 Axes>"
      ]
     },
     "metadata": {},
     "output_type": "display_data"
    },
    {
     "data": {
      "image/png": "[encoded data removed]",
      "text/plain": [
       "<Figure size 640x480 with 1 Axes>"
      ]
     },
     "metadata": {},
     "output_type": "display_data"
    },
    {
     "data": {
      "image/png": "[encoded data removed]",
      "text/plain": [
       "<Figure size 640x480 with 1 Axes>"
      ]
     },
     "metadata": {},
     "output_type": "display_data"
    },
    {
     "data": {
      "image/png": "[encoded data removed]",
      "text/plain": [
       "<Figure size 640x480 with 1 Axes>"
      ]
     },
     "metadata": {},
     "output_type": "display_data"
    },
    {
     "data": {
      "image/png": "[encoded data removed]",
      "text/plain": [
       "<Figure size 640x480 with 1 Axes>"
      ]
     },
     "metadata": {},
     "output_type": "display_data"
    }
   ],
   "source": [
    "plot_fips(train)"
   ]
  },
  {
   "cell_type": "markdown",
   "id": "f4fb21c3",
   "metadata": {},
   "source": [
    "* No single variable accounts for difference in average property value between Orange County and the others"
   ]
  },
  {
   "cell_type": "markdown",
   "id": "0c6cc1a7",
   "metadata": {},
   "source": [
    "### Exploration Summary"
   ]
  },
  {
   "cell_type": "markdown",
   "id": "c51fd52f",
   "metadata": {},
   "source": [
    "* Numerous variables are related to each other\n",
    "* No single variable accounts for differences between counties\n",
    "* We will likely need to use algorithmic techniques to pick our most useful variables"
   ]
  },
  {
   "cell_type": "markdown",
   "id": "99d3e30e",
   "metadata": {},
   "source": [
    "## Creating a Predictive Model"
   ]
  },
  {
   "cell_type": "markdown",
   "id": "1409ef46",
   "metadata": {},
   "source": [
    "* We will use Root of Mean Squared Error as the primary method to evaluate efficacy of our model due to its ease of intepretability\n",
    "* We will use simple linear regression with different numbers of algorithmic best values"
   ]
  },
  {
   "cell_type": "code",
   "execution_count": 19,
   "id": "0557a5ed",
   "metadata": {},
   "outputs": [],
   "source": [
    "# this scales our train data\n",
    "scaler = MinMaxScaler()\n",
    "X_train_scaled = scaler.fit_transform(X_train)"
   ]
  },
  {
   "cell_type": "code",
   "execution_count": 20,
   "id": "232029f6",
   "metadata": {},
   "outputs": [],
   "source": [
    "# this creates a dataframe from the scaled data\n",
    "X_train_scaled = pd.DataFrame(X_train_scaled, columns=X_train.columns, index=X_train.index)"
   ]
  },
  {
   "cell_type": "code",
   "execution_count": 21,
   "id": "aea659ba",
   "metadata": {},
   "outputs": [],
   "source": [
    "# this creates dataframes for validate and test data\n",
    "X_val_scaled = pd.DataFrame(scaler.transform(X_val), index=X_val.index, columns=X_val.columns)\n",
    "X_test_scaled = pd.DataFrame(scaler.transform(X_test), index=X_test.index, columns=X_test.columns)"
   ]
  },
  {
   "cell_type": "markdown",
   "id": "a82d2878",
   "metadata": {},
   "source": [
    "### Find top 5 variables"
   ]
  },
  {
   "cell_type": "code",
   "execution_count": 22,
   "id": "53bf83d8",
   "metadata": {},
   "outputs": [
    {
     "data": {
      "text/html": [
       "<style>#sk-container-id-1 {color: black;background-color: white;}#sk-container-id-1 pre{padding: 0;}#sk-container-id-1 div.sk-toggleable {background-color: white;}#sk-container-id-1 label.sk-toggleable__label {cursor: pointer;display: block;width: 100%;margin-bottom: 0;padding: 0.3em;box-sizing: border-box;text-align: center;}#sk-container-id-1 label.sk-toggleable__label-arrow:before {content: \"▸\";float: left;margin-right: 0.25em;color: #696969;}#sk-container-id-1 label.sk-toggleable__label-arrow:hover:before {color: black;}#sk-container-id-1 div.sk-estimator:hover label.sk-toggleable__label-arrow:before {color: black;}#sk-container-id-1 div.sk-toggleable__content {max-height: 0;max-width: 0;overflow: hidden;text-align: left;background-color: #f0f8ff;}#sk-container-id-1 div.sk-toggleable__content pre {margin: 0.2em;color: black;border-radius: 0.25em;background-color: #f0f8ff;}#sk-container-id-1 input.sk-toggleable__control:checked~div.sk-toggleable__content {max-height: 200px;max-width: 100%;overflow: auto;}#sk-container-id-1 input.sk-toggleable__control:checked~label.sk-toggleable__label-arrow:before {content: \"▾\";}#sk-container-id-1 div.sk-estimator input.sk-toggleable__control:checked~label.sk-toggleable__label {background-color: #d4ebff;}#sk-container-id-1 div.sk-label input.sk-toggleable__control:checked~label.sk-toggleable__label {background-color: #d4ebff;}#sk-container-id-1 input.sk-hidden--visually {border: 0;clip: rect(1px 1px 1px 1px);clip: rect(1px, 1px, 1px, 1px);height: 1px;margin: -1px;overflow: hidden;padding: 0;position: absolute;width: 1px;}#sk-container-id-1 div.sk-estimator {font-family: monospace;background-color: #f0f8ff;border: 1px dotted black;border-radius: 0.25em;box-sizing: border-box;margin-bottom: 0.5em;}#sk-container-id-1 div.sk-estimator:hover {background-color: #d4ebff;}#sk-container-id-1 div.sk-parallel-item::after {content: \"\";width: 100%;border-bottom: 1px solid gray;flex-grow: 1;}#sk-container-id-1 div.sk-label:hover label.sk-toggleable__label {background-color: #d4ebff;}#sk-container-id-1 div.sk-serial::before {content: \"\";position: absolute;border-left: 1px solid gray;box-sizing: border-box;top: 0;bottom: 0;left: 50%;z-index: 0;}#sk-container-id-1 div.sk-serial {display: flex;flex-direction: column;align-items: center;background-color: white;padding-right: 0.2em;padding-left: 0.2em;position: relative;}#sk-container-id-1 div.sk-item {position: relative;z-index: 1;}#sk-container-id-1 div.sk-parallel {display: flex;align-items: stretch;justify-content: center;background-color: white;position: relative;}#sk-container-id-1 div.sk-item::before, #sk-container-id-1 div.sk-parallel-item::before {content: \"\";position: absolute;border-left: 1px solid gray;box-sizing: border-box;top: 0;bottom: 0;left: 50%;z-index: -1;}#sk-container-id-1 div.sk-parallel-item {display: flex;flex-direction: column;z-index: 1;position: relative;background-color: white;}#sk-container-id-1 div.sk-parallel-item:first-child::after {align-self: flex-end;width: 50%;}#sk-container-id-1 div.sk-parallel-item:last-child::after {align-self: flex-start;width: 50%;}#sk-container-id-1 div.sk-parallel-item:only-child::after {width: 0;}#sk-container-id-1 div.sk-dashed-wrapped {border: 1px dashed gray;margin: 0 0.4em 0.5em 0.4em;box-sizing: border-box;padding-bottom: 0.4em;background-color: white;}#sk-container-id-1 div.sk-label label {font-family: monospace;font-weight: bold;display: inline-block;line-height: 1.2em;}#sk-container-id-1 div.sk-label-container {text-align: center;}#sk-container-id-1 div.sk-container {/* jupyter's `normalize.less` sets `[hidden] { display: none; }` but bootstrap.min.css set `[hidden] { display: none !important; }` so we also need the `!important` here to be able to override the default hidden behavior on the sphinx rendered scikit-learn.org. See: https://github.com/scikit-learn/scikit-learn/issues/21755 */display: inline-block !important;position: relative;}#sk-container-id-1 div.sk-text-repr-fallback {display: none;}</style><div id=\"sk-container-id-1\" class=\"sk-top-container\"><div class=\"sk-text-repr-fallback\"><pre>SelectKBest(k=5, score_func=&lt;function f_regression at 0x133fc6b90&gt;)</pre><b>In a Jupyter environment, please rerun this cell to show the HTML representation or trust the notebook. <br />On GitHub, the HTML representation is unable to render, please try loading this page with nbviewer.org.</b></div><div class=\"sk-container\" hidden><div class=\"sk-item\"><div class=\"sk-estimator sk-toggleable\"><input class=\"sk-toggleable__control sk-hidden--visually\" id=\"sk-estimator-id-1\" type=\"checkbox\" checked><label for=\"sk-estimator-id-1\" class=\"sk-toggleable__label sk-toggleable__label-arrow\">SelectKBest</label><div class=\"sk-toggleable__content\"><pre>SelectKBest(k=5, score_func=&lt;function f_regression at 0x133fc6b90&gt;)</pre></div></div></div></div></div>"
      ],
      "text/plain": [
       "SelectKBest(k=5, score_func=<function f_regression at 0x133fc6b90>)"
      ]
     },
     "execution_count": 22,
     "metadata": {},
     "output_type": "execute_result"
    }
   ],
   "source": [
    "# selects algorithimc 5 best variables\n",
    "best5 = SelectKBest(f_regression, k=5)\n",
    "best5.fit(X_train, y_train)"
   ]
  },
  {
   "cell_type": "code",
   "execution_count": 23,
   "id": "bb8fc61d",
   "metadata": {},
   "outputs": [
    {
     "data": {
      "text/plain": [
       "Index(['bedroomcnt', 'bathroomcnt', 'calculatedfinishedsquarefeet',\n",
       "       'yearbuilt', 'taxamount'],\n",
       "      dtype='object')"
      ]
     },
     "execution_count": 23,
     "metadata": {},
     "output_type": "execute_result"
    }
   ],
   "source": [
    "# puts these variables into X_train columns\n",
    "X_train.columns[best5.get_support()]"
   ]
  },
  {
   "cell_type": "code",
   "execution_count": 24,
   "id": "a6c6b215",
   "metadata": {},
   "outputs": [],
   "source": [
    "# creates column of best 5 variables\n",
    "k_columns5 = X_train.columns[best5.get_support()].to_list()"
   ]
  },
  {
   "cell_type": "markdown",
   "id": "ecb4eb57",
   "metadata": {},
   "source": [
    "### Find top 4 variables"
   ]
  },
  {
   "cell_type": "code",
   "execution_count": 25,
   "id": "75880a66",
   "metadata": {},
   "outputs": [
    {
     "data": {
      "text/html": [
       "<style>#sk-container-id-2 {color: black;background-color: white;}#sk-container-id-2 pre{padding: 0;}#sk-container-id-2 div.sk-toggleable {background-color: white;}#sk-container-id-2 label.sk-toggleable__label {cursor: pointer;display: block;width: 100%;margin-bottom: 0;padding: 0.3em;box-sizing: border-box;text-align: center;}#sk-container-id-2 label.sk-toggleable__label-arrow:before {content: \"▸\";float: left;margin-right: 0.25em;color: #696969;}#sk-container-id-2 label.sk-toggleable__label-arrow:hover:before {color: black;}#sk-container-id-2 div.sk-estimator:hover label.sk-toggleable__label-arrow:before {color: black;}#sk-container-id-2 div.sk-toggleable__content {max-height: 0;max-width: 0;overflow: hidden;text-align: left;background-color: #f0f8ff;}#sk-container-id-2 div.sk-toggleable__content pre {margin: 0.2em;color: black;border-radius: 0.25em;background-color: #f0f8ff;}#sk-container-id-2 input.sk-toggleable__control:checked~div.sk-toggleable__content {max-height: 200px;max-width: 100%;overflow: auto;}#sk-container-id-2 input.sk-toggleable__control:checked~label.sk-toggleable__label-arrow:before {content: \"▾\";}#sk-container-id-2 div.sk-estimator input.sk-toggleable__control:checked~label.sk-toggleable__label {background-color: #d4ebff;}#sk-container-id-2 div.sk-label input.sk-toggleable__control:checked~label.sk-toggleable__label {background-color: #d4ebff;}#sk-container-id-2 input.sk-hidden--visually {border: 0;clip: rect(1px 1px 1px 1px);clip: rect(1px, 1px, 1px, 1px);height: 1px;margin: -1px;overflow: hidden;padding: 0;position: absolute;width: 1px;}#sk-container-id-2 div.sk-estimator {font-family: monospace;background-color: #f0f8ff;border: 1px dotted black;border-radius: 0.25em;box-sizing: border-box;margin-bottom: 0.5em;}#sk-container-id-2 div.sk-estimator:hover {background-color: #d4ebff;}#sk-container-id-2 div.sk-parallel-item::after {content: \"\";width: 100%;border-bottom: 1px solid gray;flex-grow: 1;}#sk-container-id-2 div.sk-label:hover label.sk-toggleable__label {background-color: #d4ebff;}#sk-container-id-2 div.sk-serial::before {content: \"\";position: absolute;border-left: 1px solid gray;box-sizing: border-box;top: 0;bottom: 0;left: 50%;z-index: 0;}#sk-container-id-2 div.sk-serial {display: flex;flex-direction: column;align-items: center;background-color: white;padding-right: 0.2em;padding-left: 0.2em;position: relative;}#sk-container-id-2 div.sk-item {position: relative;z-index: 1;}#sk-container-id-2 div.sk-parallel {display: flex;align-items: stretch;justify-content: center;background-color: white;position: relative;}#sk-container-id-2 div.sk-item::before, #sk-container-id-2 div.sk-parallel-item::before {content: \"\";position: absolute;border-left: 1px solid gray;box-sizing: border-box;top: 0;bottom: 0;left: 50%;z-index: -1;}#sk-container-id-2 div.sk-parallel-item {display: flex;flex-direction: column;z-index: 1;position: relative;background-color: white;}#sk-container-id-2 div.sk-parallel-item:first-child::after {align-self: flex-end;width: 50%;}#sk-container-id-2 div.sk-parallel-item:last-child::after {align-self: flex-start;width: 50%;}#sk-container-id-2 div.sk-parallel-item:only-child::after {width: 0;}#sk-container-id-2 div.sk-dashed-wrapped {border: 1px dashed gray;margin: 0 0.4em 0.5em 0.4em;box-sizing: border-box;padding-bottom: 0.4em;background-color: white;}#sk-container-id-2 div.sk-label label {font-family: monospace;font-weight: bold;display: inline-block;line-height: 1.2em;}#sk-container-id-2 div.sk-label-container {text-align: center;}#sk-container-id-2 div.sk-container {/* jupyter's `normalize.less` sets `[hidden] { display: none; }` but bootstrap.min.css set `[hidden] { display: none !important; }` so we also need the `!important` here to be able to override the default hidden behavior on the sphinx rendered scikit-learn.org. See: https://github.com/scikit-learn/scikit-learn/issues/21755 */display: inline-block !important;position: relative;}#sk-container-id-2 div.sk-text-repr-fallback {display: none;}</style><div id=\"sk-container-id-2\" class=\"sk-top-container\"><div class=\"sk-text-repr-fallback\"><pre>SelectKBest(k=4, score_func=&lt;function f_regression at 0x133fc6b90&gt;)</pre><b>In a Jupyter environment, please rerun this cell to show the HTML representation or trust the notebook. <br />On GitHub, the HTML representation is unable to render, please try loading this page with nbviewer.org.</b></div><div class=\"sk-container\" hidden><div class=\"sk-item\"><div class=\"sk-estimator sk-toggleable\"><input class=\"sk-toggleable__control sk-hidden--visually\" id=\"sk-estimator-id-2\" type=\"checkbox\" checked><label for=\"sk-estimator-id-2\" class=\"sk-toggleable__label sk-toggleable__label-arrow\">SelectKBest</label><div class=\"sk-toggleable__content\"><pre>SelectKBest(k=4, score_func=&lt;function f_regression at 0x133fc6b90&gt;)</pre></div></div></div></div></div>"
      ],
      "text/plain": [
       "SelectKBest(k=4, score_func=<function f_regression at 0x133fc6b90>)"
      ]
     },
     "execution_count": 25,
     "metadata": {},
     "output_type": "execute_result"
    }
   ],
   "source": [
    "# picks algorithm based 4 best variables\n",
    "best4 = SelectKBest(f_regression, k=4)\n",
    "best4.fit(X_train, y_train)"
   ]
  },
  {
   "cell_type": "code",
   "execution_count": 26,
   "id": "eda3de8d",
   "metadata": {},
   "outputs": [
    {
     "data": {
      "text/plain": [
       "Index(['bedroomcnt', 'bathroomcnt', 'calculatedfinishedsquarefeet',\n",
       "       'taxamount'],\n",
       "      dtype='object')"
      ]
     },
     "execution_count": 26,
     "metadata": {},
     "output_type": "execute_result"
    }
   ],
   "source": [
    "# puts these into X_train\n",
    "X_train.columns[best4.get_support()]"
   ]
  },
  {
   "cell_type": "code",
   "execution_count": 27,
   "id": "8eada641",
   "metadata": {},
   "outputs": [],
   "source": [
    "#Creates column of best variables\n",
    "k_columns4 = X_train.columns[best4.get_support()].to_list()"
   ]
  },
  {
   "cell_type": "markdown",
   "id": "91abdd24",
   "metadata": {},
   "source": [
    "### Find top 3 variables"
   ]
  },
  {
   "cell_type": "code",
   "execution_count": 28,
   "id": "049f3355",
   "metadata": {},
   "outputs": [
    {
     "data": {
      "text/html": [
       "<style>#sk-container-id-3 {color: black;background-color: white;}#sk-container-id-3 pre{padding: 0;}#sk-container-id-3 div.sk-toggleable {background-color: white;}#sk-container-id-3 label.sk-toggleable__label {cursor: pointer;display: block;width: 100%;margin-bottom: 0;padding: 0.3em;box-sizing: border-box;text-align: center;}#sk-container-id-3 label.sk-toggleable__label-arrow:before {content: \"▸\";float: left;margin-right: 0.25em;color: #696969;}#sk-container-id-3 label.sk-toggleable__label-arrow:hover:before {color: black;}#sk-container-id-3 div.sk-estimator:hover label.sk-toggleable__label-arrow:before {color: black;}#sk-container-id-3 div.sk-toggleable__content {max-height: 0;max-width: 0;overflow: hidden;text-align: left;background-color: #f0f8ff;}#sk-container-id-3 div.sk-toggleable__content pre {margin: 0.2em;color: black;border-radius: 0.25em;background-color: #f0f8ff;}#sk-container-id-3 input.sk-toggleable__control:checked~div.sk-toggleable__content {max-height: 200px;max-width: 100%;overflow: auto;}#sk-container-id-3 input.sk-toggleable__control:checked~label.sk-toggleable__label-arrow:before {content: \"▾\";}#sk-container-id-3 div.sk-estimator input.sk-toggleable__control:checked~label.sk-toggleable__label {background-color: #d4ebff;}#sk-container-id-3 div.sk-label input.sk-toggleable__control:checked~label.sk-toggleable__label {background-color: #d4ebff;}#sk-container-id-3 input.sk-hidden--visually {border: 0;clip: rect(1px 1px 1px 1px);clip: rect(1px, 1px, 1px, 1px);height: 1px;margin: -1px;overflow: hidden;padding: 0;position: absolute;width: 1px;}#sk-container-id-3 div.sk-estimator {font-family: monospace;background-color: #f0f8ff;border: 1px dotted black;border-radius: 0.25em;box-sizing: border-box;margin-bottom: 0.5em;}#sk-container-id-3 div.sk-estimator:hover {background-color: #d4ebff;}#sk-container-id-3 div.sk-parallel-item::after {content: \"\";width: 100%;border-bottom: 1px solid gray;flex-grow: 1;}#sk-container-id-3 div.sk-label:hover label.sk-toggleable__label {background-color: #d4ebff;}#sk-container-id-3 div.sk-serial::before {content: \"\";position: absolute;border-left: 1px solid gray;box-sizing: border-box;top: 0;bottom: 0;left: 50%;z-index: 0;}#sk-container-id-3 div.sk-serial {display: flex;flex-direction: column;align-items: center;background-color: white;padding-right: 0.2em;padding-left: 0.2em;position: relative;}#sk-container-id-3 div.sk-item {position: relative;z-index: 1;}#sk-container-id-3 div.sk-parallel {display: flex;align-items: stretch;justify-content: center;background-color: white;position: relative;}#sk-container-id-3 div.sk-item::before, #sk-container-id-3 div.sk-parallel-item::before {content: \"\";position: absolute;border-left: 1px solid gray;box-sizing: border-box;top: 0;bottom: 0;left: 50%;z-index: -1;}#sk-container-id-3 div.sk-parallel-item {display: flex;flex-direction: column;z-index: 1;position: relative;background-color: white;}#sk-container-id-3 div.sk-parallel-item:first-child::after {align-self: flex-end;width: 50%;}#sk-container-id-3 div.sk-parallel-item:last-child::after {align-self: flex-start;width: 50%;}#sk-container-id-3 div.sk-parallel-item:only-child::after {width: 0;}#sk-container-id-3 div.sk-dashed-wrapped {border: 1px dashed gray;margin: 0 0.4em 0.5em 0.4em;box-sizing: border-box;padding-bottom: 0.4em;background-color: white;}#sk-container-id-3 div.sk-label label {font-family: monospace;font-weight: bold;display: inline-block;line-height: 1.2em;}#sk-container-id-3 div.sk-label-container {text-align: center;}#sk-container-id-3 div.sk-container {/* jupyter's `normalize.less` sets `[hidden] { display: none; }` but bootstrap.min.css set `[hidden] { display: none !important; }` so we also need the `!important` here to be able to override the default hidden behavior on the sphinx rendered scikit-learn.org. See: https://github.com/scikit-learn/scikit-learn/issues/21755 */display: inline-block !important;position: relative;}#sk-container-id-3 div.sk-text-repr-fallback {display: none;}</style><div id=\"sk-container-id-3\" class=\"sk-top-container\"><div class=\"sk-text-repr-fallback\"><pre>SelectKBest(k=3, score_func=&lt;function f_regression at 0x133fc6b90&gt;)</pre><b>In a Jupyter environment, please rerun this cell to show the HTML representation or trust the notebook. <br />On GitHub, the HTML representation is unable to render, please try loading this page with nbviewer.org.</b></div><div class=\"sk-container\" hidden><div class=\"sk-item\"><div class=\"sk-estimator sk-toggleable\"><input class=\"sk-toggleable__control sk-hidden--visually\" id=\"sk-estimator-id-3\" type=\"checkbox\" checked><label for=\"sk-estimator-id-3\" class=\"sk-toggleable__label sk-toggleable__label-arrow\">SelectKBest</label><div class=\"sk-toggleable__content\"><pre>SelectKBest(k=3, score_func=&lt;function f_regression at 0x133fc6b90&gt;)</pre></div></div></div></div></div>"
      ],
      "text/plain": [
       "SelectKBest(k=3, score_func=<function f_regression at 0x133fc6b90>)"
      ]
     },
     "execution_count": 28,
     "metadata": {},
     "output_type": "execute_result"
    }
   ],
   "source": [
    "# picks top 3 variables\n",
    "best3 = SelectKBest(f_regression, k=3)\n",
    "best3.fit(X_train_scaled, y_train)"
   ]
  },
  {
   "cell_type": "code",
   "execution_count": 29,
   "id": "a0eae7f1",
   "metadata": {},
   "outputs": [
    {
     "data": {
      "text/plain": [
       "Index(['bathroomcnt', 'calculatedfinishedsquarefeet', 'taxamount'], dtype='object')"
      ]
     },
     "execution_count": 29,
     "metadata": {},
     "output_type": "execute_result"
    }
   ],
   "source": [
    "# puts them into dataframe\n",
    "X_train.columns[best3.get_support()]"
   ]
  },
  {
   "cell_type": "code",
   "execution_count": 30,
   "id": "fc1a0be5",
   "metadata": {},
   "outputs": [],
   "source": [
    "# puts them into column\n",
    "k_columns3 = X_train.columns[best3.get_support()].to_list()"
   ]
  },
  {
   "cell_type": "markdown",
   "id": "fda2d45e",
   "metadata": {},
   "source": [
    "### Establish baseline"
   ]
  },
  {
   "cell_type": "code",
   "execution_count": 31,
   "id": "1e6596b0",
   "metadata": {},
   "outputs": [
    {
     "data": {
      "text/plain": [
       "(672548.8985045213, 685328.6734242525)"
      ]
     },
     "execution_count": 31,
     "metadata": {},
     "output_type": "execute_result"
    }
   ],
   "source": [
    "# this sets mean and median of y_train as baseline mean and median\n",
    "y_train['baseline_mean'] = y_train.taxvaluedollarcnt.mean()\n",
    "y_train['baseline_median'] = y_train.taxvaluedollarcnt.median()\n",
    "\n",
    "rmse_mean = mean_squared_error(y_train.taxvaluedollarcnt,\n",
    "                               y_train['baseline_mean'], squared=False)\n",
    "rmse_med = mean_squared_error(y_train.taxvaluedollarcnt,\n",
    "                               y_train['baseline_median'], squared=False)\n",
    "\n",
    "rmse_mean, rmse_med"
   ]
  },
  {
   "cell_type": "code",
   "execution_count": 32,
   "id": "905a74a0",
   "metadata": {},
   "outputs": [],
   "source": [
    "# puts mean into validate \n",
    "y_val['baseline_mean'] = y_train['taxvaluedollarcnt'].mean()"
   ]
  },
  {
   "cell_type": "code",
   "execution_count": 33,
   "id": "7848d1fb",
   "metadata": {},
   "outputs": [],
   "source": [
    "# sets up dataframe for evaluation ouput\n",
    "metric_df = pd.DataFrame(\n",
    "[\n",
    "    {\n",
    "        'model': 'baseline_mean',\n",
    "        'rmse': mean_squared_error(y_val['taxvaluedollarcnt'], y_val.baseline_mean),\n",
    "        'r^2': explained_variance_score(y_val['taxvaluedollarcnt'], y_val.baseline_mean)\n",
    "    \n",
    "    }\n",
    "])"
   ]
  },
  {
   "cell_type": "code",
   "execution_count": 34,
   "id": "e3eb10cf",
   "metadata": {},
   "outputs": [],
   "source": [
    "def model_metrics(model, \n",
    "                  X_train, \n",
    "                  y_train, \n",
    "                  X_val, \n",
    "                  y_val, \n",
    "                  scores=metric_df):\n",
    "    '''\n",
    "    this function will utilize an object to \n",
    "    predict target values after fitting to train set, \n",
    "    score model, and add resulting scores to metric_df\n",
    "    returns: metric_df\n",
    "    '''\n",
    "    # fit object\n",
    "    model.fit(X_train, y_train['taxvaluedollarcnt'])\n",
    "    in_sample_pred = model.predict(X_train)\n",
    "    out_sample_pred = model.predict(X_val)\n",
    "    model_name = input('Name for model? python identifer friendly pls.\\n')\n",
    "    y_train[model_name] = in_sample_pred\n",
    "    y_val[model_name] = out_sample_pred\n",
    "    print(y_val.shape)\n",
    "    print(out_sample_pred.shape)\n",
    "    rmse_val = mean_squared_error(\n",
    "    y_val['taxvaluedollarcnt'], out_sample_pred, squared=False)\n",
    "    r_squared_val = explained_variance_score(\n",
    "        y_val['taxvaluedollarcnt'], out_sample_pred)\n",
    "    return metric_df.append({\n",
    "        'model': model_name,\n",
    "        'rmse': rmse_val,\n",
    "        'r^2': r_squared_val\n",
    "    \n",
    "    }, ignore_index=True)\n"
   ]
  },
  {
   "cell_type": "code",
   "execution_count": 35,
   "id": "561b523d",
   "metadata": {},
   "outputs": [
    {
     "name": "stdout",
     "output_type": "stream",
     "text": [
      "Name for model? python identifer friendly pls.\n",
      "baseline\n",
      "(428047, 3)\n",
      "(428047,)\n"
     ]
    }
   ],
   "source": [
    "# sets and puts baseline model into dataframe\n",
    "metric_df = model_metrics(LinearRegression(), \n",
    "                  X_train_scaled, \n",
    "                  y_train, \n",
    "                  X_val_scaled, \n",
    "                  y_val, \n",
    "                  scores=metric_df)"
   ]
  },
  {
   "cell_type": "code",
   "execution_count": 36,
   "id": "da239dc7",
   "metadata": {},
   "outputs": [
    {
     "name": "stdout",
     "output_type": "stream",
     "text": [
      "Name for model? python identifer friendly pls.\n",
      "Top_5_regression\n",
      "(428047, 4)\n",
      "(428047,)\n"
     ]
    }
   ],
   "source": [
    "# top 5 features model\n",
    "metric_df = model_metrics(LinearRegression(), \n",
    "                  X_train_scaled[k_columns5], \n",
    "                  y_train, \n",
    "                  X_val_scaled[k_columns5], \n",
    "                  y_val, \n",
    "                  scores=metric_df)\n"
   ]
  },
  {
   "cell_type": "code",
   "execution_count": 37,
   "id": "d544398b",
   "metadata": {},
   "outputs": [
    {
     "name": "stdout",
     "output_type": "stream",
     "text": [
      "Name for model? python identifer friendly pls.\n",
      "Top_4_regression\n",
      "(428047, 5)\n",
      "(428047,)\n"
     ]
    }
   ],
   "source": [
    "# top 4\n",
    "metric_df = model_metrics(LinearRegression(), \n",
    "                  X_train_scaled[k_columns4], \n",
    "                  y_train, \n",
    "                  X_val_scaled[k_columns4], \n",
    "                  y_val, \n",
    "                  scores=metric_df)\n"
   ]
  },
  {
   "cell_type": "code",
   "execution_count": 38,
   "id": "ac3fd266",
   "metadata": {},
   "outputs": [
    {
     "name": "stdout",
     "output_type": "stream",
     "text": [
      "Name for model? python identifer friendly pls.\n",
      "Top_3_regression\n",
      "(428047, 6)\n",
      "(428047,)\n"
     ]
    }
   ],
   "source": [
    "# top 3\n",
    "metric_df = model_metrics(LinearRegression(), \n",
    "                  X_train_scaled[k_columns3], \n",
    "                  y_train, \n",
    "                  X_val_scaled[k_columns3], \n",
    "                  y_val, \n",
    "                  scores=metric_df)"
   ]
  },
  {
   "cell_type": "code",
   "execution_count": 39,
   "id": "2dc4a15e",
   "metadata": {},
   "outputs": [
    {
     "name": "stdout",
     "output_type": "stream",
     "text": [
      "Name for model? python identifer friendly pls.\n",
      "Polynomial\n",
      "(428047, 7)\n",
      "(428047,)\n"
     ]
    }
   ],
   "source": [
    "# polynomial model\n",
    "polyfeats = PolynomialFeatures(degree=2)\n",
    "X_train_quad = polyfeats.fit_transform(X_train_scaled)\n",
    "X_val_quad = polyfeats.transform(X_val_scaled)\n",
    "metric_df = model_metrics(LinearRegression(), \n",
    "                  X_train_quad, \n",
    "                  y_train, \n",
    "                  X_val_quad, \n",
    "                  y_val, \n",
    "                  scores=metric_df)"
   ]
  },
  {
   "cell_type": "code",
   "execution_count": 40,
   "id": "ff5c4f63",
   "metadata": {},
   "outputs": [
    {
     "data": {
      "text/html": [
       "<div>\n",
       "<style scoped>\n",
       "    .dataframe tbody tr th:only-of-type {\n",
       "        vertical-align: middle;\n",
       "    }\n",
       "\n",
       "    .dataframe tbody tr th {\n",
       "        vertical-align: top;\n",
       "    }\n",
       "\n",
       "    .dataframe thead th {\n",
       "        text-align: right;\n",
       "    }\n",
       "</style>\n",
       "<table border=\"1\" class=\"dataframe\">\n",
       "  <thead>\n",
       "    <tr style=\"text-align: right;\">\n",
       "      <th></th>\n",
       "      <th>model</th>\n",
       "      <th>rmse</th>\n",
       "      <th>r^2</th>\n",
       "    </tr>\n",
       "  </thead>\n",
       "  <tbody>\n",
       "    <tr>\n",
       "      <th>0</th>\n",
       "      <td>baseline_mean</td>\n",
       "      <td>4.702939e+11</td>\n",
       "      <td>0.000000</td>\n",
       "    </tr>\n",
       "    <tr>\n",
       "      <th>1</th>\n",
       "      <td>baseline</td>\n",
       "      <td>8.975183e+04</td>\n",
       "      <td>0.982872</td>\n",
       "    </tr>\n",
       "    <tr>\n",
       "      <th>2</th>\n",
       "      <td>Top_5_regression</td>\n",
       "      <td>9.222204e+04</td>\n",
       "      <td>0.981916</td>\n",
       "    </tr>\n",
       "    <tr>\n",
       "      <th>3</th>\n",
       "      <td>Top_4_regression</td>\n",
       "      <td>9.224664e+04</td>\n",
       "      <td>0.981906</td>\n",
       "    </tr>\n",
       "    <tr>\n",
       "      <th>4</th>\n",
       "      <td>Top_3_regression</td>\n",
       "      <td>9.226696e+04</td>\n",
       "      <td>0.981898</td>\n",
       "    </tr>\n",
       "    <tr>\n",
       "      <th>5</th>\n",
       "      <td>Polynomial</td>\n",
       "      <td>8.627177e+04</td>\n",
       "      <td>0.984174</td>\n",
       "    </tr>\n",
       "  </tbody>\n",
       "</table>\n",
       "</div>"
      ],
      "text/plain": [
       "              model          rmse       r^2\n",
       "0     baseline_mean  4.702939e+11  0.000000\n",
       "1          baseline  8.975183e+04  0.982872\n",
       "2  Top_5_regression  9.222204e+04  0.981916\n",
       "3  Top_4_regression  9.224664e+04  0.981906\n",
       "4  Top_3_regression  9.226696e+04  0.981898\n",
       "5        Polynomial  8.627177e+04  0.984174"
      ]
     },
     "execution_count": 40,
     "metadata": {},
     "output_type": "execute_result"
    }
   ],
   "source": [
    "metric_df"
   ]
  },
  {
   "cell_type": "code",
   "execution_count": 41,
   "id": "891a9039",
   "metadata": {},
   "outputs": [
    {
     "name": "stdout",
     "output_type": "stream",
     "text": [
      "Name for model? python identifer friendly pls.\n",
      "Test\n",
      "(1284141, 9)\n",
      "(1284141,)\n"
     ]
    }
   ],
   "source": [
    "# compares with test data\n",
    "polyfeats = PolynomialFeatures(degree=2)\n",
    "X_train_quad = polyfeats.fit_transform(X_train_scaled)\n",
    "X_test_quad = polyfeats.transform(X_test_scaled)\n",
    "metric_df = model_metrics(LinearRegression(), \n",
    "                  X_train_quad, \n",
    "                  y_train, \n",
    "                  X_train_quad, \n",
    "                  y_train, \n",
    "                  scores=metric_df)"
   ]
  },
  {
   "cell_type": "code",
   "execution_count": 42,
   "id": "4377ceeb",
   "metadata": {},
   "outputs": [
    {
     "data": {
      "text/html": [
       "<div>\n",
       "<style scoped>\n",
       "    .dataframe tbody tr th:only-of-type {\n",
       "        vertical-align: middle;\n",
       "    }\n",
       "\n",
       "    .dataframe tbody tr th {\n",
       "        vertical-align: top;\n",
       "    }\n",
       "\n",
       "    .dataframe thead th {\n",
       "        text-align: right;\n",
       "    }\n",
       "</style>\n",
       "<table border=\"1\" class=\"dataframe\">\n",
       "  <thead>\n",
       "    <tr style=\"text-align: right;\">\n",
       "      <th></th>\n",
       "      <th>model</th>\n",
       "      <th>rmse</th>\n",
       "      <th>r^2</th>\n",
       "    </tr>\n",
       "  </thead>\n",
       "  <tbody>\n",
       "    <tr>\n",
       "      <th>0</th>\n",
       "      <td>baseline_mean</td>\n",
       "      <td>4.702939e+11</td>\n",
       "      <td>0.000000</td>\n",
       "    </tr>\n",
       "    <tr>\n",
       "      <th>1</th>\n",
       "      <td>baseline</td>\n",
       "      <td>8.975183e+04</td>\n",
       "      <td>0.982872</td>\n",
       "    </tr>\n",
       "    <tr>\n",
       "      <th>2</th>\n",
       "      <td>Top_5_regression</td>\n",
       "      <td>9.222204e+04</td>\n",
       "      <td>0.981916</td>\n",
       "    </tr>\n",
       "    <tr>\n",
       "      <th>3</th>\n",
       "      <td>Top_4_regression</td>\n",
       "      <td>9.224664e+04</td>\n",
       "      <td>0.981906</td>\n",
       "    </tr>\n",
       "    <tr>\n",
       "      <th>4</th>\n",
       "      <td>Top_3_regression</td>\n",
       "      <td>9.226696e+04</td>\n",
       "      <td>0.981898</td>\n",
       "    </tr>\n",
       "    <tr>\n",
       "      <th>5</th>\n",
       "      <td>Polynomial</td>\n",
       "      <td>8.627177e+04</td>\n",
       "      <td>0.984174</td>\n",
       "    </tr>\n",
       "    <tr>\n",
       "      <th>6</th>\n",
       "      <td>Test</td>\n",
       "      <td>7.896168e+04</td>\n",
       "      <td>0.986216</td>\n",
       "    </tr>\n",
       "  </tbody>\n",
       "</table>\n",
       "</div>"
      ],
      "text/plain": [
       "              model          rmse       r^2\n",
       "0     baseline_mean  4.702939e+11  0.000000\n",
       "1          baseline  8.975183e+04  0.982872\n",
       "2  Top_5_regression  9.222204e+04  0.981916\n",
       "3  Top_4_regression  9.224664e+04  0.981906\n",
       "4  Top_3_regression  9.226696e+04  0.981898\n",
       "5        Polynomial  8.627177e+04  0.984174\n",
       "6              Test  7.896168e+04  0.986216"
      ]
     },
     "execution_count": 42,
     "metadata": {},
     "output_type": "execute_result"
    }
   ],
   "source": [
    "metric_df"
   ]
  },
  {
   "cell_type": "markdown",
   "id": "cee36b0c",
   "metadata": {},
   "source": [
    "## Conclusions"
   ]
  },
  {
   "cell_type": "markdown",
   "id": "b3009dc9",
   "metadata": {},
   "source": [
    "### Exploration"
   ]
  },
  {
   "cell_type": "markdown",
   "id": "dcdc2dc9",
   "metadata": {},
   "source": [
    "* Tax Amount is the variable most closely correlated with Value\n",
    "* A number of variables are interrelated\n",
    "* Differences in average value between counties require examination of multiple variables"
   ]
  },
  {
   "cell_type": "markdown",
   "id": "20a502db",
   "metadata": {},
   "source": [
    "### Modeling"
   ]
  },
  {
   "cell_type": "markdown",
   "id": "3672d2f9",
   "metadata": {},
   "source": [
    "* Model does not outperform baseline\n",
    "* Additional model types should be examined "
   ]
  },
  {
   "cell_type": "markdown",
   "id": "0bd1719a",
   "metadata": {},
   "source": [
    "### Recommendations"
   ]
  },
  {
   "cell_type": "markdown",
   "id": "26c5e2a4",
   "metadata": {},
   "source": [
    "* Focus any future models around tax value\n",
    "* Focus on selling on Orange County"
   ]
  },
  {
   "cell_type": "markdown",
   "id": "66fa119a",
   "metadata": {},
   "source": [
    "### Next Steps"
   ]
  },
  {
   "cell_type": "markdown",
   "id": "bf724e4e",
   "metadata": {},
   "source": [
    "* Add more variables to model\n",
    "* Modify polynomial parameters to increasing powers\n",
    "* Combine bedrooms and bathrooms into 1 category"
   ]
  }
 ],
 "metadata": {
  "kernelspec": {
   "display_name": "Python 3 (ipykernel)",
   "language": "python",
   "name": "python3"
  },
  "language_info": {
   "codemirror_mode": {
    "name": "ipython",
    "version": 3
   },
   "file_extension": ".py",
   "mimetype": "text/x-python",
   "name": "python",
   "nbconvert_exporter": "python",
   "pygments_lexer": "ipython3",
   "version": "3.10.9"
  }
 },
 "nbformat": 4,
 "nbformat_minor": 5
}
